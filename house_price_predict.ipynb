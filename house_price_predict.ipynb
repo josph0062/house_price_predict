{
  "nbformat": 4,
  "nbformat_minor": 0,
  "metadata": {
    "colab": {
      "name": "h_p_p_2.ipynb",
      "provenance": []
    },
    "kernelspec": {
      "name": "python3",
      "display_name": "Python 3"
    },
    "accelerator": "GPU"
  },
  "cells": [
    {
      "cell_type": "code",
      "metadata": {
        "id": "7vP58pOj8Lgg",
        "colab_type": "code",
        "colab": {}
      },
      "source": [
        "!apt-get install -y -qq software-properties-common python-software-properties module-init-tools\n",
        "!add-apt-repository -y ppa:alessandro-strada/ppa 2>&1 > /dev/null\n",
        "!apt-get update -qq 2>&1 > /dev/null\n",
        "!apt-get -y install -qq google-drive-ocamlfuse fuse\n",
        "from google.colab import auth\n",
        "auth.authenticate_user()\n",
        "from oauth2client.client import GoogleCredentials\n",
        "creds = GoogleCredentials.get_application_default()\n",
        "import getpass\n",
        "!google-drive-ocamlfuse -headless -id={creds.client_id} -secret={creds.client_secret} < /dev/null 2>&1 | grep URL\n",
        "vcode = getpass.getpass()\n",
        "!echo {vcode} | google-drive-ocamlfuse -headless -id={creds.client_id} -secret={creds.client_secret}"
      ],
      "execution_count": null,
      "outputs": []
    },
    {
      "cell_type": "code",
      "metadata": {
        "id": "ZJg9JTFc71wT",
        "colab_type": "code",
        "colab": {}
      },
      "source": [
        "# 指定Google Drive云端硬盘的根目录，名为drive\n",
        "!mkdir -p drive\n",
        "!google-drive-ocamlfuse drive"
      ],
      "execution_count": null,
      "outputs": []
    },
    {
      "cell_type": "code",
      "metadata": {
        "id": "2oKTCn3z8AwI",
        "colab_type": "code",
        "colab": {}
      },
      "source": [
        "# 指定當前的工作資料夾\n",
        "import os\n",
        "# 此處為google drive中的檔案路徑,drive為之前指定的工作根目錄，要加上\n",
        "os.chdir(\"drive/Colab Notebooks\")"
      ],
      "execution_count": null,
      "outputs": []
    },
    {
      "cell_type": "code",
      "metadata": {
        "id": "PD2qwNbM8lqf",
        "colab_type": "code",
        "colab": {}
      },
      "source": [
        "import pandas as pd\n",
        "import numpy as np\n",
        "import matplotlib\n",
        "import matplotlib.pyplot as plt\n",
        "import seaborn as sns\n",
        "from xgboost import XGBRegressor\n",
        "import xgboost as xgb\n",
        "from sklearn.model_selection import GridSearchCV\n",
        "from xgboost import plot_importance\n",
        "from pandas import DataFrame\n",
        "\n",
        "from sklearn.model_selection import train_test_split\n",
        "from sklearn.preprocessing import Imputer  # https://kknews.cc/zh-tw/other/g5qoogm.html\n",
        "\n",
        "\n",
        "# kaggle 分數計算公式\n",
        "def AVM(y_test, y_pred):\n",
        "      y_test, y_pred = np.array(y_test), np.array(y_pred)\n",
        "      Z = np.where(abs((y_pred - y_test) / y_test) <= 0.1, 1, 0)\n",
        "      hit_rate = Z.sum() / len(Z)\n",
        "      MAPE = (abs((y_pred - y_test) / y_test)).sum() / len(Z)\n",
        "      score = hit_rate * 10000 + (1 - MAPE)\n",
        "      return print(score)\n",
        "\n",
        "\n",
        "# 變數轉換\n",
        "\n",
        "\n",
        "# 輸入資料\n",
        "data = pd.read_csv(\"train_2.csv\", encoding='utf-8')\n",
        "data_t = pd.read_csv(\"test.csv\", encoding='utf-8')\n",
        "# print(data.dtypes) # 看變數型態\n",
        "\n",
        "# 資料清洗\n",
        "# 以city分類，拿village_income_median做平均\n",
        "grouped = data['village_income_median'].groupby(data[\"city\"])\n",
        "list1 = [3, 5, 6, 7, 9, 10, 12, 13, 14, 17, 21]\n",
        "list2 = [597.345633, 588.768020, 568.731400, 646.278368, 1035.359111, 686.269449, 635.886657, 770.654135, 642.978935,\n",
        "         630.751546, 647.720324]\n",
        "for i in range(11):\n",
        "      data[data[\"city\"] == list1[i]] = data[data[\"city\"] == list1[i]].fillna(list2[i])\n",
        "for i in range(11):\n",
        "      data_t[data_t[\"city\"] == list1[i]] = data_t[data_t[\"city\"] == list1[i]].fillna(list2[i])\n",
        "\n",
        "# 轉換數值型態(區分類別,數值)\n",
        "data[[\n",
        "      \"building_id\", \"city\", \"building_type\", \"building_use\", \"parking_way\", \"total_floor\", \"town\",\n",
        "      \"I_index_50\", \"I_index_500\", \"I_index_1000\", \"I_index_5000\", \"I_index_10000\", \"II_index_50\", \"II_index_500\",\n",
        "      \"II_index_1000\", \"II_index_5000\", \"II_index_10000\", \"III_index_50\", \"III_index_500\", \"III_index_1000\",\n",
        "      \"III_index_5000\", \"III_index_10000\", \"IV_index_50\", \"IV_index_500\", \"IV_index_1000\", \"IV_index_5000\",\n",
        "      \"IV_index_10000\", \"V_index_50\", \"V_index_500\", \"V_index_1000\", \"V_index_5000\", \"V_index_10000\", \"VI_index_50\",\n",
        "      \"VI_index_500\", \"VI_index_1000\", \"VI_index_5000\", \"VI_index_10000\", \"VII_index_50\", \"VII_index_500\",\n",
        "      \"VII_index_1000\", \"VII_index_5000\", \"VII_index_10000\", \"VIII_index_50\", \"VIII_index_500\", \"VIII_index_1000\",\n",
        "      \"VIII_index_5000\", \"VIII_index_10000\", \"IX_index_50\", \"IX_index_500\", \"IX_index_1000\", \"IX_index_5000\",\n",
        "      \"IX_index_10000\", \"X_index_50\", \"X_index_500\", \"X_index_1000\", \"X_index_5000\", \"X_index_10000\", \"XI_index_50\",\n",
        "      \"XI_index_500\", \"XI_index_1000\", \"XI_index_5000\", \"XI_index_10000\", \"XII_index_50\", \"XII_index_500\",\n",
        "      \"XII_index_1000\", \"XII_index_5000\", \"XII_index_10000\", \"XIII_index_50\", \"XIII_index_500\", \"XIII_index_1000\",\n",
        "      \"XIII_index_5000\", \"XIII_index_10000\", \"XIV_index_50\", \"XIV_index_500\", \"XIV_index_1000\", \"XIV_index_5000\",\n",
        "      \"XIV_index_10000\"\n",
        "]] = data[[\n",
        "      \"building_id\", \"city\", \"building_type\", \"building_use\", \"parking_way\", \"total_floor\", \"town\",\n",
        "      \"I_index_50\", \"I_index_500\", \"I_index_1000\", \"I_index_5000\", \"I_index_10000\", \"II_index_50\", \"II_index_500\",\n",
        "      \"II_index_1000\", \"II_index_5000\", \"II_index_10000\", \"III_index_50\", \"III_index_500\", \"III_index_1000\",\n",
        "      \"III_index_5000\", \"III_index_10000\", \"IV_index_50\", \"IV_index_500\", \"IV_index_1000\", \"IV_index_5000\",\n",
        "      \"IV_index_10000\", \"V_index_50\", \"V_index_500\", \"V_index_1000\", \"V_index_5000\", \"V_index_10000\", \"VI_index_50\",\n",
        "      \"VI_index_500\", \"VI_index_1000\", \"VI_index_5000\", \"VI_index_10000\", \"VII_index_50\", \"VII_index_500\",\n",
        "      \"VII_index_1000\", \"VII_index_5000\", \"VII_index_10000\", \"VIII_index_50\", \"VIII_index_500\", \"VIII_index_1000\",\n",
        "      \"VIII_index_5000\", \"VIII_index_10000\", \"IX_index_50\", \"IX_index_500\", \"IX_index_1000\", \"IX_index_5000\",\n",
        "      \"IX_index_10000\", \"X_index_50\", \"X_index_500\", \"X_index_1000\", \"X_index_5000\", \"X_index_10000\", \"XI_index_50\",\n",
        "      \"XI_index_500\", \"XI_index_1000\", \"XI_index_5000\", \"XI_index_10000\", \"XII_index_50\", \"XII_index_500\",\n",
        "      \"XII_index_1000\", \"XII_index_5000\", \"XII_index_10000\", \"XIII_index_50\", \"XIII_index_500\", \"XIII_index_1000\",\n",
        "      \"XIII_index_5000\", \"XIII_index_10000\", \"XIV_index_50\", \"XIV_index_500\", \"XIV_index_1000\", \"XIV_index_5000\",\n",
        "      \"XIV_index_10000\"\n",
        "]].astype('category')\n",
        "data_t[[\n",
        "      \"building_id\", \"city\", \"building_type\", \"building_use\", \"parking_way\", \"total_floor\", \"town\",\n",
        "      \"I_index_50\", \"I_index_500\", \"I_index_1000\", \"I_index_5000\", \"I_index_10000\", \"II_index_50\", \"II_index_500\",\n",
        "      \"II_index_1000\", \"II_index_5000\", \"II_index_10000\", \"III_index_50\", \"III_index_500\", \"III_index_1000\",\n",
        "      \"III_index_5000\", \"III_index_10000\", \"IV_index_50\", \"IV_index_500\", \"IV_index_1000\", \"IV_index_5000\",\n",
        "      \"IV_index_10000\", \"V_index_50\", \"V_index_500\", \"V_index_1000\", \"V_index_5000\", \"V_index_10000\", \"VI_index_50\",\n",
        "      \"VI_index_500\", \"VI_index_1000\", \"VI_index_5000\", \"VI_index_10000\", \"VII_index_50\", \"VII_index_500\",\n",
        "      \"VII_index_1000\", \"VII_index_5000\", \"VII_index_10000\", \"VIII_index_50\", \"VIII_index_500\", \"VIII_index_1000\",\n",
        "      \"VIII_index_5000\", \"VIII_index_10000\", \"IX_index_50\", \"IX_index_500\", \"IX_index_1000\", \"IX_index_5000\",\n",
        "      \"IX_index_10000\", \"X_index_50\", \"X_index_500\", \"X_index_1000\", \"X_index_5000\", \"X_index_10000\", \"XI_index_50\",\n",
        "      \"XI_index_500\", \"XI_index_1000\", \"XI_index_5000\", \"XI_index_10000\", \"XII_index_50\", \"XII_index_500\",\n",
        "      \"XII_index_1000\", \"XII_index_5000\", \"XII_index_10000\", \"XIII_index_50\", \"XIII_index_500\", \"XIII_index_1000\",\n",
        "      \"XIII_index_5000\", \"XIII_index_10000\", \"XIV_index_50\", \"XIV_index_500\", \"XIV_index_1000\", \"XIV_index_5000\",\n",
        "      \"XIV_index_10000\"\n",
        "]] = data_t[[\n",
        "      \"building_id\", \"city\", \"building_type\", \"building_use\", \"parking_way\", \"total_floor\", \"town\",\n",
        "      \"I_index_50\", \"I_index_500\", \"I_index_1000\", \"I_index_5000\", \"I_index_10000\", \"II_index_50\", \"II_index_500\",\n",
        "      \"II_index_1000\", \"II_index_5000\", \"II_index_10000\", \"III_index_50\", \"III_index_500\", \"III_index_1000\",\n",
        "      \"III_index_5000\", \"III_index_10000\", \"IV_index_50\", \"IV_index_500\", \"IV_index_1000\", \"IV_index_5000\",\n",
        "      \"IV_index_10000\", \"V_index_50\", \"V_index_500\", \"V_index_1000\", \"V_index_5000\", \"V_index_10000\", \"VI_index_50\",\n",
        "      \"VI_index_500\", \"VI_index_1000\", \"VI_index_5000\", \"VI_index_10000\", \"VII_index_50\", \"VII_index_500\",\n",
        "      \"VII_index_1000\", \"VII_index_5000\", \"VII_index_10000\", \"VIII_index_50\", \"VIII_index_500\", \"VIII_index_1000\",\n",
        "      \"VIII_index_5000\", \"VIII_index_10000\", \"IX_index_50\", \"IX_index_500\", \"IX_index_1000\", \"IX_index_5000\",\n",
        "      \"IX_index_10000\", \"X_index_50\", \"X_index_500\", \"X_index_1000\", \"X_index_5000\", \"X_index_10000\", \"XI_index_50\",\n",
        "      \"XI_index_500\", \"XI_index_1000\", \"XI_index_5000\", \"XI_index_10000\", \"XII_index_50\", \"XII_index_500\",\n",
        "      \"XII_index_1000\", \"XII_index_5000\", \"XII_index_10000\", \"XIII_index_50\", \"XIII_index_500\", \"XIII_index_1000\",\n",
        "      \"XIII_index_5000\", \"XIII_index_10000\", \"XIV_index_50\", \"XIV_index_500\", \"XIV_index_1000\", \"XIV_index_5000\",\n",
        "      \"XIV_index_10000\"\n",
        "]].astype('category')\n",
        "\n",
        "# 去掉不要變數\n",
        "d1 = data.drop(['building_id', 'parking_area', 'parking_price', 'txn_floor', 'village', ], axis=1)  # axis=1代表col\n",
        "d1_t = data_t.drop(['building_id', 'parking_area', 'parking_price', 'txn_floor', 'village', ], axis=1)\n",
        "\n",
        "# 新增變數\n",
        "d1[\"dt_ratio\"] = (d1[\"txn_dt\"] - d1[\"building_complete_dt\"]) / d1[\"txn_dt\"]\n",
        "d1[\"bc_ratio\"] = (d1[\"txn_dt\"] - d1[\"building_complete_dt\"]) / d1[\"building_complete_dt\"]\n",
        "d1[\"bo_de_ratio\"] = d1[\"born_rate\"] / d1[\"death_rate\"]\n",
        "d1[\"dt_bc_ratio\"] = d1[\"txn_dt\"] / d1[\"building_complete_dt\"]\n",
        "d1[\"txn_dt2\"] = np.log(d1[\"txn_dt\"])\n",
        "d1[\"building_type2\"] = d1[\"building_type\"]\n",
        "d1[\"bu_la_area\"] = d1[\"building_area\"] + d1[\"land_area\"]\n",
        "d1['building_age_jo'] = d1['txn_dt'] - d1['building_complete_dt']\n",
        "\n",
        "d1_t[\"dt_ratio\"] = (d1_t[\"txn_dt\"] - d1_t[\"building_complete_dt\"]) / d1_t[\"txn_dt\"]\n",
        "d1_t[\"bc_ratio\"] = (d1_t[\"txn_dt\"] - d1_t[\"building_complete_dt\"]) / d1_t[\"building_complete_dt\"]\n",
        "d1_t[\"bo_de_ratio\"] = d1_t[\"born_rate\"] / d1_t[\"death_rate\"]\n",
        "d1_t[\"dt_bc_ratio\"] = d1_t[\"txn_dt\"] / d1_t[\"building_complete_dt\"]\n",
        "d1_t[\"txn_dt2\"] = np.log(d1_t[\"txn_dt\"])\n",
        "d1_t[\"building_type2\"] = d1_t[\"building_type\"]\n",
        "d1_t[\"bu_la_area\"] = d1_t[\"building_area\"] + d1_t[\"land_area\"]\n",
        "d1_t['building_age_jo'] = d1_t['txn_dt'] - d1_t['building_complete_dt']\n",
        "\n",
        "\n",
        "# 指定變數\n",
        "d2 = d1[[\n",
        "      \"total_price\",\n",
        "      \"txn_dt\", \"building_complete_dt\",\n",
        "      \"dt_ratio\", \"floor_class_jo\", \"village_income_median\", \"bo_de_ratio\", \"bc_ratio\", \"txn_dt2\",\"bu_la_area\",'building_age_jo',\n",
        "      \"land_area\", \"building_area\", \"lat\", \"lon\", \"town_population\", \"town_area\",\n",
        "      \"town_population_density\", \"doc_rate\", \"master_rate\", \"bachelor_rate\", \"jobschool_rate\", \"highschool_rate\",\n",
        "      \"junior_rate\", \"elementary_rate\", \"high_graduate_jo\", \"high/low_graduate_jo\",\n",
        "      \"born_rate\", \"death_rate\", \"marriage_rate\", \"divorce_rate\",\n",
        "      \"N_50\", \"N_500\", \"N_1000\", \"N_5000\", \"N_10000\", \"I_10\", \"I_50\", \"I_100\", \"I_250\", \"I_500\", \"I_1000\", \"I_5000\",\n",
        "      \"I_10000\", \"I_MIN\", \"II_10\", \"II_50\", \"II_100\", \"II_250\", \"II_500\", \"II_1000\", \"II_5000\", \"II_10000\", \"II_MIN\",\n",
        "      \"III_10\", \"III_50\", \"III_100\", \"III_250\", \"III_500\", \"III_1000\", \"III_5000\", \"III_10000\", \"III_MIN\", \"IV_10\",\n",
        "      \"IV_50\", \"IV_100\", \"IV_250\", \"IV_500\", \"IV_1000\", \"IV_5000\", \"IV_10000\", \"IV_MIN\", \"V_10\", \"V_50\", \"V_100\",\n",
        "      \"V_250\", \"V_500\", \"V_1000\", \"V_5000\", \"V_10000\", \"V_MIN\", \"VI_10\", \"VI_50\", \"VI_100\", \"VI_250\", \"VI_500\",\n",
        "      \"VI_1000\", \"VI_5000\", \"VI_10000\", \"VI_MIN\", \"VII_10\", \"VII_50\", \"VII_100\", \"VII_250\", \"VII_500\", \"VII_1000\",\n",
        "      \"VII_5000\", \"VII_10000\", \"VII_MIN\", \"VIII_10\", \"VIII_50\", \"VIII_100\", \"VIII_250\", \"VIII_500\", \"VIII_1000\",\n",
        "      \"VIII_5000\", \"VIII_10000\", \"VIII_MIN\", \"IX_10\", \"IX_50\", \"IX_100\", \"IX_250\", \"IX_500\", \"IX_1000\", \"IX_5000\",\n",
        "      \"IX_10000\", \"IX_MIN\", \"X_10\", \"X_50\", \"X_100\", \"X_250\", \"X_500\", \"X_1000\", \"X_5000\", \"X_10000\", \"X_MIN\", \"XI_10\",\n",
        "      \"XI_50\", \"XI_100\", \"XI_250\", \"XI_500\", \"XI_1000\", \"XI_5000\", \"XI_10000\", \"XI_MIN\", \"XII_10\", \"XII_50\", \"XII_100\",\n",
        "      \"XII_250\", \"XII_500\", \"XII_1000\", \"XII_5000\", \"XII_10000\", \"XII_MIN\", \"XIII_10\", \"XIII_50\", \"XIII_100\",\n",
        "      \"XIII_250\", \"XIII_500\", \"XIII_1000\", \"XIII_5000\", \"XIII_10000\", \"XIII_MIN\", \"XIV_10\", \"XIV_50\", \"XIV_100\",\n",
        "      \"XIV_250\",\n",
        "      \"XIV_500\", \"XIV_1000\", \"XIV_5000\", \"XIV_10000\", \"XIV_MIN\",\n",
        "\n",
        "      \"city\", \"building_type\", \"parking_way\", \"building_type2\",\n",
        "      \"I_index_50\", \"I_index_500\", \"I_index_1000\", \"I_index_5000\", \"I_index_10000\", \"II_index_50\", \"II_index_500\",\n",
        "      \"II_index_1000\", \"II_index_5000\", \"II_index_10000\", \"III_index_50\", \"III_index_500\", \"III_index_1000\",\n",
        "      \"III_index_5000\", \"III_index_10000\", \"IV_index_50\", \"IV_index_500\", \"IV_index_1000\", \"IV_index_5000\",\n",
        "      \"IV_index_10000\", \"V_index_50\", \"V_index_500\", \"V_index_1000\", \"V_index_5000\", \"V_index_10000\", \"VI_index_50\",\n",
        "      \"VI_index_500\", \"VI_index_1000\", \"VI_index_5000\", \"VI_index_10000\", \"VII_index_50\", \"VII_index_500\",\n",
        "      \"VII_index_1000\", \"VII_index_5000\", \"VII_index_10000\", \"VIII_index_50\", \"VIII_index_500\", \"VIII_index_1000\",\n",
        "      \"VIII_index_5000\", \"VIII_index_10000\", \"IX_index_50\", \"IX_index_500\", \"IX_index_1000\", \"IX_index_5000\",\n",
        "      \"IX_index_10000\", \"X_index_50\", \"X_index_500\", \"X_index_1000\", \"X_index_5000\", \"X_index_10000\", \"XI_index_50\",\n",
        "      \"XI_index_500\", \"XI_index_1000\", \"XI_index_5000\", \"XII_index_500\",\n",
        "      \"XII_index_1000\", \"XII_index_5000\", \"XII_index_10000\", \"XIII_index_50\", \"XIII_index_500\", \"XIII_index_1000\",\n",
        "      \"XIII_index_5000\", \"XIII_index_10000\", \"XIV_index_50\", \"XIV_index_500\", \"XIV_index_1000\", \"XIV_index_5000\",\n",
        "      \"XIV_index_10000\"\n",
        "]]\n",
        "d2_t = d1_t[[\n",
        "      \"txn_dt\", \"building_complete_dt\",\n",
        "      \"dt_ratio\", \"floor_class_jo\", \"village_income_median\", \"bo_de_ratio\", \"bc_ratio\", \"txn_dt2\",\"bu_la_area\",'building_age_jo',\n",
        "      \"land_area\", \"building_area\", \"lat\", \"lon\", \"town_population\", \"town_area\",\n",
        "      \"town_population_density\", \"doc_rate\", \"master_rate\", \"bachelor_rate\", \"jobschool_rate\", \"highschool_rate\",\n",
        "      \"junior_rate\", \"elementary_rate\", \"high_graduate_jo\", \"high/low_graduate_jo\",\n",
        "      \"born_rate\", \"death_rate\", \"marriage_rate\", \"divorce_rate\",\n",
        "      \"N_50\", \"N_500\", \"N_1000\", \"N_5000\", \"N_10000\", \"I_10\", \"I_50\", \"I_100\", \"I_250\", \"I_500\", \"I_1000\", \"I_5000\",\n",
        "      \"I_10000\", \"I_MIN\", \"II_10\", \"II_50\", \"II_100\", \"II_250\", \"II_500\", \"II_1000\", \"II_5000\", \"II_10000\", \"II_MIN\",\n",
        "      \"III_10\", \"III_50\", \"III_100\", \"III_250\", \"III_500\", \"III_1000\", \"III_5000\", \"III_10000\", \"III_MIN\", \"IV_10\",\n",
        "      \"IV_50\", \"IV_100\", \"IV_250\", \"IV_500\", \"IV_1000\", \"IV_5000\", \"IV_10000\", \"IV_MIN\", \"V_10\", \"V_50\", \"V_100\",\n",
        "      \"V_250\", \"V_500\", \"V_1000\", \"V_5000\", \"V_10000\", \"V_MIN\", \"VI_10\", \"VI_50\", \"VI_100\", \"VI_250\", \"VI_500\",\n",
        "      \"VI_1000\", \"VI_5000\", \"VI_10000\", \"VI_MIN\", \"VII_10\", \"VII_50\", \"VII_100\", \"VII_250\", \"VII_500\", \"VII_1000\",\n",
        "      \"VII_5000\", \"VII_10000\", \"VII_MIN\", \"VIII_10\", \"VIII_50\", \"VIII_100\", \"VIII_250\", \"VIII_500\", \"VIII_1000\",\n",
        "      \"VIII_5000\", \"VIII_10000\", \"VIII_MIN\", \"IX_10\", \"IX_50\", \"IX_100\", \"IX_250\", \"IX_500\", \"IX_1000\", \"IX_5000\",\n",
        "      \"IX_10000\", \"IX_MIN\", \"X_10\", \"X_50\", \"X_100\", \"X_250\", \"X_500\", \"X_1000\", \"X_5000\", \"X_10000\", \"X_MIN\", \"XI_10\",\n",
        "      \"XI_50\", \"XI_100\", \"XI_250\", \"XI_500\", \"XI_1000\", \"XI_5000\", \"XI_10000\", \"XI_MIN\", \"XII_10\", \"XII_50\", \"XII_100\",\n",
        "      \"XII_250\", \"XII_500\", \"XII_1000\", \"XII_5000\", \"XII_10000\", \"XII_MIN\", \"XIII_10\", \"XIII_50\", \"XIII_100\",\n",
        "      \"XIII_250\", \"XIII_500\", \"XIII_1000\", \"XIII_5000\", \"XIII_10000\", \"XIII_MIN\", \"XIV_10\", \"XIV_50\", \"XIV_100\",\n",
        "      \"XIV_250\",\n",
        "      \"XIV_500\", \"XIV_1000\", \"XIV_5000\", \"XIV_10000\", \"XIV_MIN\",\n",
        "\n",
        "      \"city\", \"building_type\", \"parking_way\", \"building_type2\",\n",
        "      \"I_index_50\", \"I_index_500\", \"I_index_1000\", \"I_index_5000\", \"I_index_10000\", \"II_index_50\", \"II_index_500\",\n",
        "      \"II_index_1000\", \"II_index_5000\", \"II_index_10000\", \"III_index_50\", \"III_index_500\", \"III_index_1000\",\n",
        "      \"III_index_5000\", \"III_index_10000\", \"IV_index_50\", \"IV_index_500\", \"IV_index_1000\", \"IV_index_5000\",\n",
        "      \"IV_index_10000\", \"V_index_50\", \"V_index_500\", \"V_index_1000\", \"V_index_5000\", \"V_index_10000\", \"VI_index_50\",\n",
        "      \"VI_index_500\", \"VI_index_1000\", \"VI_index_5000\", \"VI_index_10000\", \"VII_index_50\", \"VII_index_500\",\n",
        "      \"VII_index_1000\", \"VII_index_5000\", \"VII_index_10000\", \"VIII_index_50\", \"VIII_index_500\", \"VIII_index_1000\",\n",
        "      \"VIII_index_5000\", \"VIII_index_10000\", \"IX_index_50\", \"IX_index_500\", \"IX_index_1000\", \"IX_index_5000\",\n",
        "      \"IX_index_10000\", \"X_index_50\", \"X_index_500\", \"X_index_1000\", \"X_index_5000\", \"X_index_10000\", \"XI_index_50\",\n",
        "      \"XI_index_500\", \"XI_index_1000\", \"XI_index_5000\", \"XII_index_500\",\n",
        "      \"XII_index_1000\", \"XII_index_5000\", \"XII_index_10000\", \"XIII_index_50\", \"XIII_index_500\", \"XIII_index_1000\",\n",
        "      \"XIII_index_5000\", \"XIII_index_10000\", \"XIV_index_50\", \"XIV_index_500\", \"XIV_index_1000\", \"XIV_index_5000\",\n",
        "      \"XIV_index_10000\"\n",
        "]]\n",
        "\n",
        "# one-hot encoding\n",
        "d2 = pd.get_dummies(d2)\n",
        "d2_t = pd.get_dummies(d2_t)\n"
      ],
      "execution_count": null,
      "outputs": []
    },
    {
      "cell_type": "code",
      "metadata": {
        "id": "m8T3N1Pi_bqd",
        "colab_type": "code",
        "colab": {}
      },
      "source": [
        "# txn_dt 與 total_price線性回歸看離群值\n",
        "sns.regplot(x=d2['txn_dt'],y=np.log(d2[\"total_price\"]/d2['txn_dt']))"
      ],
      "execution_count": null,
      "outputs": []
    },
    {
      "cell_type": "code",
      "metadata": {
        "id": "QbqApGh4y_Kh",
        "colab_type": "code",
        "colab": {}
      },
      "source": [
        "# bu_la_area 與 total_price線性回歸看離群值\n",
        "sns.regplot(x=d2[\"bu_la_area\"],y=np.log(d2[\"total_price\"]/d2[\"bu_la_area\"]))"
      ],
      "execution_count": null,
      "outputs": []
    },
    {
      "cell_type": "code",
      "metadata": {
        "id": "GssQlBx72Prv",
        "colab_type": "code",
        "colab": {}
      },
      "source": [
        "d2 = d2[d2[\"total_price\"]/d2[\"bu_la_area\"]/100000 < 100]\n",
        "len(d2)"
      ],
      "execution_count": null,
      "outputs": []
    },
    {
      "cell_type": "code",
      "metadata": {
        "id": "lERX7u2W0zCx",
        "colab_type": "code",
        "colab": {}
      },
      "source": [
        "# building_age_jo 與 total_price線性回歸看離群值\n",
        "sns.regplot(x=d2['building_age_jo'],y=np.log(d2[\"total_price\"]/d2['building_age_jo']))"
      ],
      "execution_count": null,
      "outputs": []
    },
    {
      "cell_type": "code",
      "metadata": {
        "id": "5nso0Xu31Q75",
        "colab_type": "code",
        "colab": {}
      },
      "source": [
        "d2 = d2[d2[\"total_price\"]/d2['building_age_jo']/1000000 < 15]\n",
        "len(d2)"
      ],
      "execution_count": null,
      "outputs": []
    },
    {
      "cell_type": "code",
      "metadata": {
        "id": "uVbbVQeB1sbR",
        "colab_type": "code",
        "colab": {}
      },
      "source": [
        "# building_area 與 total_price線性回歸看離群值\n",
        "sns.regplot(x=d2[\"building_area\"],y=np.log(d2[\"total_price\"]/d2[\"building_area\"]))"
      ],
      "execution_count": null,
      "outputs": []
    },
    {
      "cell_type": "code",
      "metadata": {
        "id": "3JrpC6EF2Npw",
        "colab_type": "code",
        "colab": {}
      },
      "source": [
        "d2 = d2[d2[\"total_price\"]/d2[\"building_area\"]/10000000 < 10]\n",
        "len(d2)"
      ],
      "execution_count": null,
      "outputs": []
    },
    {
      "cell_type": "code",
      "metadata": {
        "id": "xHWeovy8Ghc3",
        "colab_type": "code",
        "colab": {}
      },
      "source": [
        "# XII_MIN 與 total_price線性回歸看離群值\n",
        "sns.regplot(x=d2[\"XII_MIN\"],y=np.log(d2[\"total_price\"]/d2[\"XII_MIN\"]))"
      ],
      "execution_count": null,
      "outputs": []
    },
    {
      "cell_type": "code",
      "metadata": {
        "id": "S3DzcMLSICUi",
        "colab_type": "code",
        "colab": {}
      },
      "source": [
        "d2 = d2[d2[\"total_price\"]/d2[\"XII_MIN\"]/100000000 < 15]\n",
        "len(d2)"
      ],
      "execution_count": null,
      "outputs": []
    },
    {
      "cell_type": "code",
      "metadata": {
        "id": "cIXAPJa0I9iL",
        "colab_type": "code",
        "colab": {}
      },
      "source": [
        "# VII_MIN 與 total_price線性回歸看離群值\n",
        "sns.regplot(x=d2[\"VII_MIN\"],y=np.log(d2[\"total_price\"]/d2[\"VII_MIN\"]))"
      ],
      "execution_count": null,
      "outputs": []
    },
    {
      "cell_type": "code",
      "metadata": {
        "id": "5buPUa8CI9wj",
        "colab_type": "code",
        "colab": {}
      },
      "source": [
        "d2 = d2[d2[\"total_price\"]/d2[\"VII_MIN\"]/100000000 < 10]\n",
        "len(d2)"
      ],
      "execution_count": null,
      "outputs": []
    },
    {
      "cell_type": "code",
      "metadata": {
        "id": "iCSZzZkPJd_B",
        "colab_type": "code",
        "colab": {}
      },
      "source": [
        "# XIV_MIN 與 total_price線性回歸看離群值\n",
        "sns.regplot(x=d2[\"XIV_MIN\"],y=np.log(d2[\"total_price\"]/d2[\"XIV_MIN\"]))"
      ],
      "execution_count": null,
      "outputs": []
    },
    {
      "cell_type": "code",
      "metadata": {
        "id": "qFlvsakIJlay",
        "colab_type": "code",
        "colab": {}
      },
      "source": [
        "d2 = d2[d2[\"total_price\"]/d2[\"XIV_MIN\"]/100000000 < 3]\n",
        "len(d2)"
      ],
      "execution_count": null,
      "outputs": []
    },
    {
      "cell_type": "code",
      "metadata": {
        "id": "pjg_083NJ6le",
        "colab_type": "code",
        "colab": {}
      },
      "source": [
        "# VIII_MIN 與 total_price線性回歸看離群值\n",
        "sns.regplot(x=d2[\"VIII_MIN\"],y=np.log(d2[\"total_price\"]/d2[\"VIII_MIN\"]))"
      ],
      "execution_count": null,
      "outputs": []
    },
    {
      "cell_type": "code",
      "metadata": {
        "id": "eWnNTy08J6oa",
        "colab_type": "code",
        "colab": {}
      },
      "source": [
        "d2 = d2[d2[\"total_price\"]/d2[\"VIII_MIN\"]/100000000 < 8]\n",
        "len(d2)"
      ],
      "execution_count": null,
      "outputs": []
    },
    {
      "cell_type": "code",
      "metadata": {
        "id": "wKlo0oswKOtA",
        "colab_type": "code",
        "colab": {}
      },
      "source": [
        "# land_area 與 total_price線性回歸看離群值\n",
        "sns.regplot(x=d2[\"land_area\"],y=np.log(d2[\"total_price\"]/d2[\"land_area\"]))"
      ],
      "execution_count": null,
      "outputs": []
    },
    {
      "cell_type": "code",
      "metadata": {
        "id": "l5yi1yeVKO63",
        "colab_type": "code",
        "colab": {}
      },
      "source": [
        "d2 = d2[d2[\"total_price\"]/d2[\"land_area\"]/10000000 < 2.5]\n",
        "len(d2)"
      ],
      "execution_count": null,
      "outputs": []
    },
    {
      "cell_type": "code",
      "metadata": {
        "id": "QABl9Mii8lyv",
        "colab_type": "code",
        "colab": {}
      },
      "source": [
        "y = np.log(d2.total_price)\n",
        "x = d2.drop('total_price', axis=1)\n",
        "train_x, test_x, train_y, test_y = train_test_split(x.as_matrix(), y.as_matrix(), test_size=0.005, random_state=0)  # 切資料,轉成矩陣\n",
        "test_data_x = d2_t.as_matrix()\n",
        "my_imputer = Imputer()\n",
        "train_x = my_imputer.fit_transform(train_x)\n",
        "clf = xgb.XGBRegressor(\n",
        "    colsample_bylevel=0.7,\n",
        "    colsample_bytree = 0.75,\n",
        "    max_depth = 7, \n",
        "    gamma=0,\n",
        "    min_child_weight=4,    \n",
        "    learning_rate = 0.033,\n",
        "    max_delta_step=0,\n",
        "    missing=None,\n",
        "    n_estimators = 30000,\n",
        "    nthread= 12,\n",
        "    silent = True,\n",
        "    objective = 'reg:gamma', #'reg:linear', 'reg:linear' \n",
        "    reg_lambda = 0.8,\n",
        "    scale_pos_weiht = 1,\n",
        "    seed = 1234,\n",
        "    subsample = 1,\n",
        "    default='gpu_predictor',\n",
        "    tree_method = 'gpu_hist',\n",
        "    gpu_id = 0,\n",
        "    max_bin = 256\n",
        "    )\n",
        "clf.fit(train_x, train_y, verbose=False)\n",
        "predictions = clf.predict(test_x)\n",
        "AVM(np.exp(test_y),np.exp(predictions))"
      ],
      "execution_count": null,
      "outputs": []
    },
    {
      "cell_type": "code",
      "metadata": {
        "id": "kBtR7MAbDY16",
        "colab_type": "code",
        "colab": {}
      },
      "source": [
        "fig,ax = plt.subplots(figsize=(15,15))\n",
        "plot_importance(clf,\n",
        "                height=0.5,\n",
        "                ax=ax,\n",
        "                max_num_features=64)\n",
        "plt.show()"
      ],
      "execution_count": null,
      "outputs": []
    },
    {
      "cell_type": "code",
      "metadata": {
        "id": "47PDcNjT8l63",
        "colab_type": "code",
        "colab": {}
      },
      "source": [
        "test_data_x = d2_t.as_matrix()\n",
        "test_predictions = clf.predict(test_data_x)\n",
        "predict_price = {\"building_id\":data_t[\"building_id\"],\"total_price\":np.exp(test_predictions)}\n",
        "df_test = DataFrame(predict_price)\n",
        "df_test.to_csv(\"submit_test_me_outly_0.005_4.csv\",encoding='utf-8',index=False)"
      ],
      "execution_count": null,
      "outputs": []
    }
  ]
}